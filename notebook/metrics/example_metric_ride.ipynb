{
 "cells": [
  {
   "cell_type": "markdown",
   "metadata": {},
   "source": [
    "# Metric ride"
   ]
  },
  {
   "cell_type": "markdown",
   "metadata": {},
   "source": [
    "Import the necessary libraries"
   ]
  },
  {
   "cell_type": "code",
   "execution_count": 1,
   "metadata": {
    "collapsed": false
   },
   "outputs": [],
   "source": [
    "%matplotlib inline\n",
    "\n",
    "import numpy as np\n",
    "import matplotlib.pyplot as plt\n",
    "\n",
    "from skcycling.data_management import Rider\n",
    "from skcycling.utils import load_power_from_fit\n",
    "\n",
    "from skcycling.metrics import normalized_power_score\n",
    "from skcycling.metrics import intensity_factor_ftp_score\n",
    "from skcycling.metrics import intensity_factor_pma_score\n",
    "from skcycling.metrics import training_stress_ftp_score\n",
    "from skcycling.metrics import training_stress_pma_score\n",
    "from skcycling.metrics import training_stress_pma_grappe_score\n",
    "from skcycling.metrics import training_stress_ftp_grappe_score\n",
    "from skcycling.metrics import pma2ftp"
   ]
  },
  {
   "cell_type": "markdown",
   "metadata": {},
   "source": [
    "Read a file and compute the metrics"
   ]
  },
  {
   "cell_type": "code",
   "execution_count": 2,
   "metadata": {
    "collapsed": false
   },
   "outputs": [
    {
     "name": "stdout",
     "output_type": "stream",
     "text": [
      "The normalized power score is 270.23 W\n",
      "The intensity factor is 0.89\n",
      "The intensity factor is 0.89\n",
      "The training stress score is 89.84\n",
      "The training stress score is 89.84\n",
      "The training stress score ESIE is 161.66\n",
      "The training stress score ESIE is 161.66\n"
     ]
    }
   ],
   "source": [
    "filename = '../../data/user_1/2016/2016-05-24-19-39-33.fit'\n",
    "ride_power, date = load_power_from_fit(filename)\n",
    "\n",
    "# Define the PMA and the FTP\n",
    "pma = 400.\n",
    "ftp = pma2ftp(pma)\n",
    "\n",
    "# Compute the different metrics\n",
    "print 'The normalized power score is {:.2f} W'.format(normalized_power_score(ride_power, pma))\n",
    "print 'The intensity factor is {:.2f}'.format(intensity_factor_ftp_score(ride_power, ftp))\n",
    "print 'The intensity factor is {:.2f}'.format(intensity_factor_pma_score(ride_power, pma))\n",
    "print 'The training stress score is {:.2f}'.format(training_stress_ftp_score(ride_power, ftp))\n",
    "print 'The training stress score is {:.2f}'.format(training_stress_pma_score(ride_power, pma))\n",
    "print 'The training stress score ESIE is {:.2f}'.format(training_stress_pma_grappe_score(ride_power, pma))\n",
    "print 'The training stress score ESIE is {:.2f}'.format(training_stress_ftp_grappe_score(ride_power, ftp))"
   ]
  }
 ],
 "metadata": {
  "kernelspec": {
   "display_name": "Python 2",
   "language": "python",
   "name": "python2"
  },
  "language_info": {
   "codemirror_mode": {
    "name": "ipython",
    "version": 2
   },
   "file_extension": ".py",
   "mimetype": "text/x-python",
   "name": "python",
   "nbconvert_exporter": "python",
   "pygments_lexer": "ipython2",
   "version": "2.7.11"
  }
 },
 "nbformat": 4,
 "nbformat_minor": 0
}
